{
 "cells": [
  {
   "cell_type": "code",
   "execution_count": 1,
   "id": "a0edb036-1078-4d55-b00a-8fb62ce5bcc1",
   "metadata": {},
   "outputs": [
    {
     "name": "stdout",
     "output_type": "stream",
     "text": [
      "NAN FOUND\n",
      "NAN FOUND\n",
      "NAN FOUND\n",
      "NAN FOUND\n"
     ]
    },
    {
     "ename": "KeyboardInterrupt",
     "evalue": "",
     "output_type": "error",
     "traceback": [
      "\u001b[0;31m---------------------------------------------------------------------------\u001b[0m",
      "\u001b[0;31mKeyboardInterrupt\u001b[0m                         Traceback (most recent call last)",
      "\u001b[0;32m/var/folders/0f/jb41dz513zbbg0bcgvw41sw40000gn/T/ipykernel_73257/3642042883.py\u001b[0m in \u001b[0;36m<module>\u001b[0;34m\u001b[0m\n\u001b[1;32m    124\u001b[0m     \u001b[0mdf_tops_\u001b[0m \u001b[0;34m=\u001b[0m \u001b[0mpd\u001b[0m\u001b[0;34m.\u001b[0m\u001b[0mread_parquet\u001b[0m\u001b[0;34m(\u001b[0m\u001b[0;34m\"../data/tops.parquet\"\u001b[0m\u001b[0;34m)\u001b[0m\u001b[0;34m\u001b[0m\u001b[0;34m\u001b[0m\u001b[0m\n\u001b[1;32m    125\u001b[0m \u001b[0;34m\u001b[0m\u001b[0m\n\u001b[0;32m--> 126\u001b[0;31m     \u001b[0ma\u001b[0m \u001b[0;34m=\u001b[0m \u001b[0mgenerate_top_dataset\u001b[0m\u001b[0;34m(\u001b[0m\u001b[0mdf_logs\u001b[0m\u001b[0;34m=\u001b[0m\u001b[0mdf_logs_\u001b[0m\u001b[0;34m,\u001b[0m \u001b[0mdf_tops\u001b[0m\u001b[0;34m=\u001b[0m\u001b[0mdf_tops_\u001b[0m\u001b[0;34m,\u001b[0m \u001b[0mtop\u001b[0m\u001b[0;34m=\u001b[0m\u001b[0mtop_\u001b[0m\u001b[0;34m)\u001b[0m\u001b[0;34m\u001b[0m\u001b[0;34m\u001b[0m\u001b[0m\n\u001b[0m\u001b[1;32m    127\u001b[0m     \u001b[0mprint\u001b[0m\u001b[0;34m(\u001b[0m\u001b[0;36m1\u001b[0m\u001b[0;34m)\u001b[0m\u001b[0;34m\u001b[0m\u001b[0;34m\u001b[0m\u001b[0m\n\u001b[1;32m    128\u001b[0m \u001b[0;34m\u001b[0m\u001b[0m\n",
      "\u001b[0;32m/var/folders/0f/jb41dz513zbbg0bcgvw41sw40000gn/T/ipykernel_73257/3642042883.py\u001b[0m in \u001b[0;36mgenerate_top_dataset\u001b[0;34m(df_logs, df_tops, top, ratio)\u001b[0m\n\u001b[1;32m     92\u001b[0m             \u001b[0;32mcontinue\u001b[0m\u001b[0;34m\u001b[0m\u001b[0;34m\u001b[0m\u001b[0m\n\u001b[1;32m     93\u001b[0m         \u001b[0mtop_index\u001b[0m \u001b[0;34m=\u001b[0m \u001b[0mdepth_list\u001b[0m\u001b[0;34m.\u001b[0m\u001b[0mindex\u001b[0m\u001b[0;34m(\u001b[0m\u001b[0mreal_top_position\u001b[0m\u001b[0;34m)\u001b[0m\u001b[0;34m\u001b[0m\u001b[0;34m\u001b[0m\u001b[0m\n\u001b[0;32m---> 94\u001b[0;31m         windows_, labels_ = get_well_relevant_windows(top_index=top_index, df_well=df_well, shift=1, nb_samples=1 * 100,\n\u001b[0m\u001b[1;32m     95\u001b[0m                                                       ratio=ratio)\n\u001b[1;32m     96\u001b[0m         \u001b[0mwindows\u001b[0m \u001b[0;34m+=\u001b[0m \u001b[0mwindows_\u001b[0m\u001b[0;34m\u001b[0m\u001b[0;34m\u001b[0m\u001b[0m\n",
      "\u001b[0;32m/var/folders/0f/jb41dz513zbbg0bcgvw41sw40000gn/T/ipykernel_73257/3642042883.py\u001b[0m in \u001b[0;36mget_well_relevant_windows\u001b[0;34m(top_index, df_well, nb_samples, shift, ratio)\u001b[0m\n\u001b[1;32m     33\u001b[0m         \u001b[0mleft_limit\u001b[0m \u001b[0;34m=\u001b[0m \u001b[0mi\u001b[0m \u001b[0;34m-\u001b[0m \u001b[0mWINDOW_LENGTH\u001b[0m\u001b[0;34m\u001b[0m\u001b[0;34m\u001b[0m\u001b[0m\n\u001b[1;32m     34\u001b[0m         \u001b[0mright_limit\u001b[0m \u001b[0;34m=\u001b[0m \u001b[0mi\u001b[0m \u001b[0;34m+\u001b[0m \u001b[0mWINDOW_LENGTH\u001b[0m\u001b[0;34m\u001b[0m\u001b[0;34m\u001b[0m\u001b[0m\n\u001b[0;32m---> 35\u001b[0;31m         \u001b[0mwindow_data\u001b[0m \u001b[0;34m=\u001b[0m \u001b[0mlist\u001b[0m\u001b[0;34m(\u001b[0m\u001b[0mmap\u001b[0m\u001b[0;34m(\u001b[0m\u001b[0;32mlambda\u001b[0m \u001b[0mx\u001b[0m\u001b[0;34m:\u001b[0m \u001b[0mnp\u001b[0m\u001b[0;34m.\u001b[0m\u001b[0marray\u001b[0m\u001b[0;34m(\u001b[0m\u001b[0;34m[\u001b[0m\u001b[0mx\u001b[0m\u001b[0;34m]\u001b[0m\u001b[0;34m)\u001b[0m\u001b[0;34m,\u001b[0m \u001b[0mlist\u001b[0m\u001b[0;34m(\u001b[0m\u001b[0mdf_well\u001b[0m\u001b[0;34m[\u001b[0m\u001b[0;34m'GR'\u001b[0m\u001b[0;34m]\u001b[0m\u001b[0;34m.\u001b[0m\u001b[0mvalues\u001b[0m\u001b[0;34m[\u001b[0m\u001b[0mleft_limit\u001b[0m\u001b[0;34m:\u001b[0m\u001b[0mright_limit\u001b[0m \u001b[0;34m+\u001b[0m \u001b[0;36m1\u001b[0m\u001b[0;34m]\u001b[0m\u001b[0;34m)\u001b[0m\u001b[0;34m)\u001b[0m\u001b[0;34m)\u001b[0m\u001b[0;34m\u001b[0m\u001b[0;34m\u001b[0m\u001b[0m\n\u001b[0m\u001b[1;32m     36\u001b[0m         \u001b[0;32mif\u001b[0m \u001b[0mnp\u001b[0m\u001b[0;34m.\u001b[0m\u001b[0marray\u001b[0m\u001b[0;34m(\u001b[0m\u001b[0mwindow_data\u001b[0m\u001b[0;34m)\u001b[0m\u001b[0;34m.\u001b[0m\u001b[0mshape\u001b[0m \u001b[0;34m!=\u001b[0m \u001b[0;34m(\u001b[0m\u001b[0mWINDOW_LENGTH\u001b[0m \u001b[0;34m*\u001b[0m \u001b[0;36m2\u001b[0m \u001b[0;34m+\u001b[0m \u001b[0;36m1\u001b[0m\u001b[0;34m,\u001b[0m \u001b[0;36m1\u001b[0m\u001b[0;34m)\u001b[0m\u001b[0;34m:\u001b[0m\u001b[0;34m\u001b[0m\u001b[0;34m\u001b[0m\u001b[0m\n\u001b[1;32m     37\u001b[0m             \u001b[0;32mcontinue\u001b[0m\u001b[0;34m\u001b[0m\u001b[0;34m\u001b[0m\u001b[0m\n",
      "\u001b[0;32m/var/folders/0f/jb41dz513zbbg0bcgvw41sw40000gn/T/ipykernel_73257/3642042883.py\u001b[0m in \u001b[0;36m<lambda>\u001b[0;34m(x)\u001b[0m\n\u001b[1;32m     33\u001b[0m         \u001b[0mleft_limit\u001b[0m \u001b[0;34m=\u001b[0m \u001b[0mi\u001b[0m \u001b[0;34m-\u001b[0m \u001b[0mWINDOW_LENGTH\u001b[0m\u001b[0;34m\u001b[0m\u001b[0;34m\u001b[0m\u001b[0m\n\u001b[1;32m     34\u001b[0m         \u001b[0mright_limit\u001b[0m \u001b[0;34m=\u001b[0m \u001b[0mi\u001b[0m \u001b[0;34m+\u001b[0m \u001b[0mWINDOW_LENGTH\u001b[0m\u001b[0;34m\u001b[0m\u001b[0;34m\u001b[0m\u001b[0m\n\u001b[0;32m---> 35\u001b[0;31m         \u001b[0mwindow_data\u001b[0m \u001b[0;34m=\u001b[0m \u001b[0mlist\u001b[0m\u001b[0;34m(\u001b[0m\u001b[0mmap\u001b[0m\u001b[0;34m(\u001b[0m\u001b[0;32mlambda\u001b[0m \u001b[0mx\u001b[0m\u001b[0;34m:\u001b[0m \u001b[0mnp\u001b[0m\u001b[0;34m.\u001b[0m\u001b[0marray\u001b[0m\u001b[0;34m(\u001b[0m\u001b[0;34m[\u001b[0m\u001b[0mx\u001b[0m\u001b[0;34m]\u001b[0m\u001b[0;34m)\u001b[0m\u001b[0;34m,\u001b[0m \u001b[0mlist\u001b[0m\u001b[0;34m(\u001b[0m\u001b[0mdf_well\u001b[0m\u001b[0;34m[\u001b[0m\u001b[0;34m'GR'\u001b[0m\u001b[0;34m]\u001b[0m\u001b[0;34m.\u001b[0m\u001b[0mvalues\u001b[0m\u001b[0;34m[\u001b[0m\u001b[0mleft_limit\u001b[0m\u001b[0;34m:\u001b[0m\u001b[0mright_limit\u001b[0m \u001b[0;34m+\u001b[0m \u001b[0;36m1\u001b[0m\u001b[0;34m]\u001b[0m\u001b[0;34m)\u001b[0m\u001b[0;34m)\u001b[0m\u001b[0;34m)\u001b[0m\u001b[0;34m\u001b[0m\u001b[0;34m\u001b[0m\u001b[0m\n\u001b[0m\u001b[1;32m     36\u001b[0m         \u001b[0;32mif\u001b[0m \u001b[0mnp\u001b[0m\u001b[0;34m.\u001b[0m\u001b[0marray\u001b[0m\u001b[0;34m(\u001b[0m\u001b[0mwindow_data\u001b[0m\u001b[0;34m)\u001b[0m\u001b[0;34m.\u001b[0m\u001b[0mshape\u001b[0m \u001b[0;34m!=\u001b[0m \u001b[0;34m(\u001b[0m\u001b[0mWINDOW_LENGTH\u001b[0m \u001b[0;34m*\u001b[0m \u001b[0;36m2\u001b[0m \u001b[0;34m+\u001b[0m \u001b[0;36m1\u001b[0m\u001b[0;34m,\u001b[0m \u001b[0;36m1\u001b[0m\u001b[0;34m)\u001b[0m\u001b[0;34m:\u001b[0m\u001b[0;34m\u001b[0m\u001b[0;34m\u001b[0m\u001b[0m\n\u001b[1;32m     37\u001b[0m             \u001b[0;32mcontinue\u001b[0m\u001b[0;34m\u001b[0m\u001b[0;34m\u001b[0m\u001b[0m\n",
      "\u001b[0;31mKeyboardInterrupt\u001b[0m: "
     ]
    }
   ],
   "source": [
    "import numpy as np\n",
    "import pandas as pd\n",
    "\n",
    "from typing import List\n",
    "from typing import Union\n",
    "from typing import Tuple\n",
    "from hacktops.settings import NB_SAMPLES\n",
    "from hacktops.settings import SHIFT_STEP\n",
    "from hacktops.settings import WINDOW_LENGTH\n",
    "\n",
    "\n",
    "def get_well_relevant_windows(top_index: int, df_well: pd.DataFrame, nb_samples: int=NB_SAMPLES,\n",
    "                              shift: int=SHIFT_STEP, ratio: Union[None, float]=None) -> Tuple[List[np.ndarray], List[np.ndarray]]:\n",
    "    \"\"\"\n",
    "    Given df_well : 'wellName', 'DEPTH', 'GR' and top_index the position of a top in df_well\n",
    "    Returns a list of numerous windows around top_index, and their label\n",
    "    Labels are either True or False\n",
    "    for a given selected window it is labelled True if the distance between its center and\n",
    "    the top position is less than 4\n",
    "\n",
    "    :param top_index: int\n",
    "    :param df_well: pd.DataFrame(columns=['wellName', 'DEPTH', 'GR'])\n",
    "    :param nb_samples: int\n",
    "    :param shift: int=SHIFT_STEP\n",
    "    :param ratio: Union[None, float]=None\n",
    "    :return: list\n",
    "    \"\"\"\n",
    "    windows = []\n",
    "    labels = []\n",
    "    positives = 0\n",
    "    negatives = 0\n",
    "    for i in range(top_index - nb_samples, top_index + nb_samples, shift):\n",
    "        left_limit = i - WINDOW_LENGTH\n",
    "        right_limit = i + WINDOW_LENGTH\n",
    "        window_data = list(map(lambda x: np.array([x]), list(df_well['GR'].values[left_limit:right_limit + 1])))\n",
    "        if np.array(window_data).shape != (WINDOW_LENGTH * 2 + 1, 1):\n",
    "            continue\n",
    "        label = abs(df_well['DEPTH'].iloc[i] - df_well['DEPTH'].iloc[top_index]) < 4\n",
    "        if ratio:\n",
    "            if label:\n",
    "                windows.append(np.array(window_data))\n",
    "                labels.append(np.array(label))\n",
    "            elif negatives / max(positives + negatives, 1) < ratio:\n",
    "                pass\n",
    "            else:\n",
    "                windows.append(np.array(window_data))\n",
    "                labels.append(np.array(label))\n",
    "        else:\n",
    "            windows.append(np.array(window_data))\n",
    "            labels.append(np.array(label))\n",
    "\n",
    "        if label:\n",
    "            positives += 1\n",
    "        else:\n",
    "            negatives += 1\n",
    "\n",
    "    return windows, labels\n",
    "\n",
    "\n",
    "# TODO: check index and len depth\n",
    "\n",
    "def generate_top_dataset(df_logs: pd.DataFrame, df_tops: pd.DataFrame,\n",
    "                         top: str='CONRAD', ratio: Union[None, float]=None):\n",
    "    \"\"\"\n",
    "    From df_logs and df_tops for each well\n",
    "    return a list of relevant windows from the whole signal of the well and the labels of the windows\n",
    "    a relevant window depend on the top\n",
    "    for more explanation about window selection cf get_well_relevant_windows\n",
    "\n",
    "    df_logs contains : 'wellName', 'DEPTH', 'GR'\n",
    "    df_tops contains a column top\n",
    "\n",
    "    :param df_logs: pd.DataFrame\n",
    "    :param df_tops: pd.DataFrame\n",
    "    :param top: str='CONRAD'\n",
    "    :param ratio: Union[None, float]=None\n",
    "    :return:\n",
    "    \"\"\"\n",
    "    windows = []\n",
    "    labels = []\n",
    "    for well_name in df_logs['wellName'].drop_duplicates().tolist():\n",
    "        df_well = df_logs[df_logs['wellName'] == well_name]\n",
    "        top_position = df_tops.loc[well_name][top]\n",
    "        if np.isnan(top_position):\n",
    "            print(\"NAN FOUND\")\n",
    "            continue\n",
    "        depth_list = list(df_well['DEPTH'].values)\n",
    "        real_top_position = min(df_well['DEPTH'].values,\n",
    "                                key=lambda x: abs(x - top_position))  # SOMETIMES top_position not in df_logs\n",
    "        if abs(real_top_position - top_position) > 3:\n",
    "            print(\"DATA BAD LABELLED\")\n",
    "            continue\n",
    "        top_index = depth_list.index(real_top_position)\n",
    "        windows_, labels_ = get_well_relevant_windows(top_index=top_index, df_well=df_well, shift=1, nb_samples=1 * 100,\n",
    "                                                      ratio=ratio)\n",
    "        windows += windows_\n",
    "        labels += labels_\n",
    "    return windows, labels\n",
    "\n",
    "\n",
    "def get_location_dataset(df_loc: pd.DataFrame, df_tops: pd.DataFrame, top: str):\n",
    "    \"\"\"\n",
    "    result :\n",
    "     - index : wellName\n",
    "     - columns : Latitude, Longitude, top\n",
    "    top must be a column of df_tops\n",
    "\n",
    "    :param df_loc: pd.DataFrame\n",
    "    :param df_tops: pd.DataFrame\n",
    "    :param top: str\n",
    "    :return:\n",
    "    \"\"\"\n",
    "    assert top in df_tops\n",
    "    well_data = df_loc.merge(df_tops[[top]], how='inner', left_index=True, right_index=True)\n",
    "    well_data = well_data[well_data[top].notnull()]\n",
    "\n",
    "    return well_data.reset_index(drop=True)\n",
    "\n",
    "\n",
    "if __name__ == '__main__':\n",
    "    top_ = 'CONRAD'\n",
    "    df_logs_ = pd.read_parquet(\"../data/logs.parquet\")\n",
    "    df_loc_ = pd.read_parquet(\"../data/loc.parquet\")\n",
    "    df_tops_ = pd.read_parquet(\"../data/tops.parquet\")\n",
    "\n",
    "    a = generate_top_dataset(df_logs=df_logs_, df_tops=df_tops_, top=top_)\n",
    "    print(1)\n",
    "\n"
   ]
  },
  {
   "cell_type": "code",
   "execution_count": 15,
   "id": "8aaf63b4-3af7-430c-b635-e5bde7628f2c",
   "metadata": {},
   "outputs": [
    {
     "name": "stderr",
     "output_type": "stream",
     "text": [
      "IOPub data rate exceeded.\n",
      "The Jupyter server will temporarily stop sending output\n",
      "to the client in order to avoid crashing it.\n",
      "To change this limit, set the config variable\n",
      "`--ServerApp.iopub_data_rate_limit`.\n",
      "\n",
      "Current values:\n",
      "ServerApp.iopub_data_rate_limit=1000000.0 (bytes/sec)\n",
      "ServerApp.rate_limit_window=3.0 (secs)\n",
      "\n"
     ]
    }
   ],
   "source": [
    "print(a)"
   ]
  },
  {
   "cell_type": "code",
   "execution_count": 12,
   "id": "8cf74654-fc0e-47e8-a2cd-d0fa49b71cc3",
   "metadata": {},
   "outputs": [
    {
     "name": "stderr",
     "output_type": "stream",
     "text": [
      "/opt/anaconda3/lib/python3.9/site-packages/numpy/core/fromnumeric.py:1970: VisibleDeprecationWarning: Creating an ndarray from ragged nested sequences (which is a list-or-tuple of lists-or-tuples-or ndarrays with different lengths or shapes) is deprecated. If you meant to do this, you must specify 'dtype=object' when creating the ndarray.\n",
      "  result = asarray(a).shape\n"
     ]
    },
    {
     "data": {
      "text/plain": [
       "(2, 119196)"
      ]
     },
     "execution_count": 12,
     "metadata": {},
     "output_type": "execute_result"
    }
   ],
   "source": [
    "np.shape(a)"
   ]
  }
 ],
 "metadata": {
  "kernelspec": {
   "display_name": "Python 3 (ipykernel)",
   "language": "python",
   "name": "python3"
  },
  "language_info": {
   "codemirror_mode": {
    "name": "ipython",
    "version": 3
   },
   "file_extension": ".py",
   "mimetype": "text/x-python",
   "name": "python",
   "nbconvert_exporter": "python",
   "pygments_lexer": "ipython3",
   "version": "3.9.13"
  }
 },
 "nbformat": 4,
 "nbformat_minor": 5
}
